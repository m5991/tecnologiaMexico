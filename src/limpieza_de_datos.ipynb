{
 "cells": [
  {
   "cell_type": "code",
   "execution_count": 1,
   "id": "4f6e3249-9423-4f12-bd16-274d9e4d1c45",
   "metadata": {},
   "outputs": [],
   "source": [
    "import numpy as np\n",
    "import pandas as pd\n",
    "import seaborn as sns\n",
    "from scipy.stats import norm\n",
    "import matplotlib.pyplot as plt\n",
    "import math\n",
    "import plotly.express as px\n",
    "import requests\n",
    "\n",
    "import matplotlib.pyplot as plt\n",
    "import matplotlib.patches as patches\n",
    "\n",
    "import pandasql as ps"
   ]
  },
  {
   "cell_type": "code",
   "execution_count": 4,
   "id": "d09b051d-d057-418e-a42b-243a87401dca",
   "metadata": {
    "tags": []
   },
   "outputs": [
    {
     "data": {
      "text/plain": [
       "'|    |    UPM |   VIV_SEL |   HOGAR |   NUM_REN |   PAREN |   SEXO |   EDAD |   DIA |   MES |   P3_7 |   NIVEL |   GRADO |   P3_9_1 |   P3_9_2 |   P3_9_3 |   P3_10 |   P3_11 |   P3_12 |   FAC_HOGAR |   UPM_DIS |   EST_DIS | DOMINIO   |   TLOC |   ESTRATO |   ENT |\\n|---:|-------:|----------:|--------:|----------:|--------:|-------:|-------:|------:|------:|-------:|--------:|--------:|---------:|---------:|---------:|--------:|--------:|--------:|------------:|----------:|----------:|:----------|-------:|----------:|------:|\\n|  0 | 100023 |         1 |       1 |         1 |       1 |      2 |     41 |    16 |     9 |      2 |      10 |       2 |        1 |        1 |        1 |       1 |     nan |       1 |         174 |         1 |         7 | U         |      1 |         3 |     1 |\\n|  1 | 100023 |         2 |       1 |         1 |       1 |      1 |     46 |     2 |     9 |      2 |       6 |       3 |        2 |        1 |        1 |       7 |     nan |     nan |         174 |         1 |         7 | U         |      1 |         3 |     1 |\\n|  2 | 100023 |         2 |       1 |         2 |       2 |      2 |     47 |     5 |     9 |      2 |       3 |       3 |        2 |        1 |        1 |       6 |       4 |     nan |         174 |         1 |         7 | U         |      1 |         3 |     1 |\\n|  3 | 100023 |         2 |       1 |         3 |       3 |      2 |     23 |    22 |     1 |      2 |       6 |       3 |        1 |        1 |        1 |       1 |     nan |       1 |         174 |         1 |         7 | U         |      1 |         3 |     1 |\\n|  4 | 100023 |         2 |       1 |         5 |       3 |      2 |     17 |    22 |    10 |      1 |       6 |       2 |        1 |        1 |        1 |       5 |       4 |     nan |         174 |         1 |         7 | U         |      1 |         3 |     1 |\\n|  5 | 100023 |         2 |       1 |         6 |       3 |      1 |     13 |    25 |     8 |      1 |       3 |       1 |        1 |        1 |        1 |       5 |       4 |     nan |         174 |         1 |         7 | U         |      1 |         3 |     1 |\\n|  6 | 100023 |         2 |       1 |         4 |       3 |      2 |     21 |    17 |     9 |      2 |       6 |       3 |        1 |        1 |        1 |       6 |       4 |     nan |         174 |         1 |         7 | U         |      1 |         3 |     1 |\\n|  7 | 100023 |         3 |       1 |         1 |       1 |      2 |     50 |     5 |     6 |      2 |       8 |       4 |        1 |        1 |        1 |       1 |     nan |       1 |         174 |         1 |         7 | U         |      1 |         3 |     1 |\\n|  8 | 100023 |         3 |       1 |         2 |       3 |      2 |     19 |     5 |     6 |      1 |       8 |       1 |        1 |        1 |        1 |       1 |     nan |       1 |         174 |         1 |         7 | U         |      1 |         3 |     1 |\\n|  9 | 100023 |         4 |       1 |         1 |       1 |      1 |     56 |    16 |     8 |      2 |       2 |       6 |        2 |        1 |        1 |       1 |     nan |       4 |         174 |         1 |         7 | U         |      1 |         3 |     1 |'"
      ]
     },
     "execution_count": 4,
     "metadata": {},
     "output_type": "execute_result"
    }
   ],
   "source": [
    "data = pd.read_csv('../data/residente.csv')\n",
    "data.head(10).to_markdown()"
   ]
  },
  {
   "cell_type": "code",
   "execution_count": null,
   "id": "38de4a95-6691-4c2f-9d37-1209065ddb90",
   "metadata": {},
   "outputs": [],
   "source": [
    "q1=ps.sqldf(\"SELECT * FROM data WHERE PAREN == 1\", locals())\n",
    "q1.head()"
   ]
  },
  {
   "cell_type": "code",
   "execution_count": null,
   "id": "58bf86d0",
   "metadata": {},
   "outputs": [],
   "source": [
    "A=q1.UPM.astype(str)\n",
    "B=q1.VIV_SEL.astype(str)\n",
    "C = A+B\n",
    "q1['code']=C"
   ]
  },
  {
   "cell_type": "code",
   "execution_count": null,
   "id": "23e463b5",
   "metadata": {},
   "outputs": [],
   "source": [
    "q1.info()"
   ]
  },
  {
   "cell_type": "code",
   "execution_count": null,
   "id": "a1a0c2b8-9973-4474-94f5-40e9d74e74b7",
   "metadata": {},
   "outputs": [],
   "source": [
    "data1 = q1.iloc[:,[4,5,6,9,10,11,12,13,14,19,20,21,22,23,24,25]]\n",
    "data1.head(10)"
   ]
  },
  {
   "cell_type": "code",
   "execution_count": null,
   "id": "a569ea5e",
   "metadata": {},
   "outputs": [],
   "source": [
    "data1.to_csv('residente_paren_1_limpio.csv')"
   ]
  },
  {
   "cell_type": "code",
   "execution_count": null,
   "id": "d3c8d7d5-867f-4fe5-b6f0-498c5aba2aa4",
   "metadata": {},
   "outputs": [],
   "source": [
    "data[data['UPM'] == 100023]"
   ]
  },
  {
   "cell_type": "code",
   "execution_count": null,
   "id": "2be95f0e-d0b1-450f-b277-cbfb19900e6c",
   "metadata": {},
   "outputs": [],
   "source": [
    "A=data.UPM.astype(str)\n",
    "B=data.VIV_SEL.astype(str)\n",
    "C = A+B\n",
    "data['code']=C"
   ]
  },
  {
   "cell_type": "code",
   "execution_count": null,
   "id": "a40bb97e-cc23-4946-abe0-b8d694e3bb63",
   "metadata": {},
   "outputs": [],
   "source": [
    "x=[]\n",
    "k=[]"
   ]
  },
  {
   "cell_type": "code",
   "execution_count": null,
   "id": "c4492fd6-8e28-48dc-a0c1-45875b788bdc",
   "metadata": {},
   "outputs": [],
   "source": [
    "for i in range(len(data)):\n",
    "    j = data['code'][i]\n",
    "    if k!= j:\n",
    "        cc=data[data['code'] == j]\n",
    "        cmax=cc[cc['NIVEL']==cc['NIVEL'].max()]\n",
    "        aa=cmax.iloc[0]\n",
    "        x.append(aa)\n",
    "        k=j"
   ]
  },
  {
   "cell_type": "code",
   "execution_count": null,
   "id": "339fb217-4e7c-45da-b23c-5674b26e3f6b",
   "metadata": {},
   "outputs": [],
   "source": [
    "q2=pd.DataFrame(x)"
   ]
  },
  {
   "cell_type": "code",
   "execution_count": null,
   "id": "59883f59-48bc-44d9-9ed3-1299b2120440",
   "metadata": {},
   "outputs": [],
   "source": [
    "q2"
   ]
  },
  {
   "cell_type": "code",
   "execution_count": null,
   "id": "a1847fa5-c43f-414d-97da-bf517d4bfa21",
   "metadata": {},
   "outputs": [],
   "source": [
    "data11 = q2.iloc[:,[4,5,6,9,10,11,12,13,14,19,20,21,22,23,24,25]]\n",
    "data11.head(10)"
   ]
  },
  {
   "cell_type": "code",
   "execution_count": null,
   "id": "32b1f718-d49a-43cf-a513-88a7375ad8b4",
   "metadata": {},
   "outputs": [],
   "source": [
    "data11.to_csv('residente_nivel_max_limpio.csv')"
   ]
  },
  {
   "cell_type": "code",
   "execution_count": null,
   "id": "d3d6dae7-f0fa-4161-97ee-0ee1f2567276",
   "metadata": {
    "tags": []
   },
   "outputs": [],
   "source": [
    "data2 = pd.read_csv('vivienda.csv')\n",
    "data2"
   ]
  },
  {
   "cell_type": "code",
   "execution_count": null,
   "id": "854301d9",
   "metadata": {},
   "outputs": [],
   "source": [
    "A=data2.UPM.astype(str)\n",
    "B=data2.VIV_SEL.astype(str)\n",
    "C = A+B\n",
    "data2['code']=C"
   ]
  },
  {
   "cell_type": "code",
   "execution_count": null,
   "id": "d3b053de",
   "metadata": {},
   "outputs": [],
   "source": [
    "data2.info()"
   ]
  },
  {
   "cell_type": "code",
   "execution_count": null,
   "id": "c14ba99a-07d0-4cfc-aca7-36b7fb8615f8",
   "metadata": {},
   "outputs": [],
   "source": [
    "data3 = data2.iloc[:,[2,3,4,5,6,7,8,9,10,11,18,19]]\n",
    "data3.head()"
   ]
  },
  {
   "cell_type": "code",
   "execution_count": null,
   "id": "7d39ad70-4f92-4192-aeae-73287d2331e8",
   "metadata": {},
   "outputs": [],
   "source": []
  },
  {
   "cell_type": "code",
   "execution_count": null,
   "id": "50ab2459-3c02-499f-a695-4d8573795b3a",
   "metadata": {},
   "outputs": [],
   "source": [
    "data4 = pd.read_csv('hogar.csv')\n",
    "data4.head(10)"
   ]
  },
  {
   "cell_type": "code",
   "execution_count": null,
   "id": "d155c5e8",
   "metadata": {},
   "outputs": [],
   "source": [
    "A=data4.UPM.astype(str)\n",
    "B=data4.VIV_SEL.astype(str)\n",
    "C = A+B\n",
    "data4['code']=C"
   ]
  },
  {
   "cell_type": "code",
   "execution_count": null,
   "id": "9307a3c2",
   "metadata": {},
   "outputs": [],
   "source": []
  },
  {
   "cell_type": "code",
   "execution_count": null,
   "id": "0c7f11bc-b45e-450b-abe3-a4e465bc9ee0",
   "metadata": {},
   "outputs": [],
   "source": [
    "data5 = data4.iloc[:,[2,3,4,5,6,7,8,9,10,11,12,14,16,30,50,74,84]]"
   ]
  },
  {
   "cell_type": "code",
   "execution_count": null,
   "id": "81535b5c-66fc-422b-ba47-7005a882ccef",
   "metadata": {},
   "outputs": [],
   "source": [
    "bruto1=pd.merge(data3, data5, on='code', suffixes=('_vive','_hogar'))"
   ]
  },
  {
   "cell_type": "code",
   "execution_count": null,
   "id": "aa634020-0fac-44d5-86cb-f1055e6ce5dc",
   "metadata": {},
   "outputs": [],
   "source": [
    "bruto1"
   ]
  },
  {
   "cell_type": "code",
   "execution_count": null,
   "id": "f14e7288",
   "metadata": {},
   "outputs": [],
   "source": [
    "bruto1.isnull().sum()"
   ]
  },
  {
   "cell_type": "code",
   "execution_count": null,
   "id": "a08c0bff-3c58-4ce1-8555-57e3ddb4d43a",
   "metadata": {},
   "outputs": [],
   "source": [
    "df = bruto1.iloc[:,[0,1,2,3,4,5,6,7,8,10,11,12,13,14,15,16,17,18,21,22,24]]\n",
    "df.head()"
   ]
  },
  {
   "cell_type": "code",
   "execution_count": null,
   "id": "95e2cbf7-6eaa-4633-afea-e5a02c37cb02",
   "metadata": {},
   "outputs": [],
   "source": [
    "df.info()"
   ]
  },
  {
   "cell_type": "code",
   "execution_count": null,
   "id": "67cb8031",
   "metadata": {},
   "outputs": [],
   "source": [
    "df.to_csv('vivienda_hogar_limpio.csv')"
   ]
  },
  {
   "cell_type": "code",
   "execution_count": null,
   "id": "1eeb16d5-9136-41fe-a134-02ed4d6d6cfd",
   "metadata": {},
   "outputs": [],
   "source": [
    "bruto.duplicated().sum()"
   ]
  },
  {
   "cell_type": "code",
   "execution_count": null,
   "id": "fd4e4851-1d79-4678-9574-8954129eb0ad",
   "metadata": {},
   "outputs": [],
   "source": [
    "sin_duplicados=bruto.drop_duplicates()"
   ]
  },
  {
   "cell_type": "code",
   "execution_count": null,
   "id": "bca4bcb4-1db5-4ef9-9fd6-ef06bc005808",
   "metadata": {},
   "outputs": [],
   "source": [
    "sin_duplicados.to_csv('sin_duplicados.csv')"
   ]
  },
  {
   "cell_type": "code",
   "execution_count": null,
   "id": "08b43380-2b85-4c2f-af38-6695ea754738",
   "metadata": {},
   "outputs": [],
   "source": [
    "df_con_nulos = pd.read_csv('sin_duplicados.csv')"
   ]
  },
  {
   "cell_type": "code",
   "execution_count": null,
   "id": "dc4361dd-9a02-4ef8-a173-721820242447",
   "metadata": {},
   "outputs": [],
   "source": [
    "df_con_nulos.isnull().sum()"
   ]
  }
 ],
 "metadata": {
  "kernelspec": {
   "display_name": "Python 3 (ipykernel)",
   "language": "python",
   "name": "python3"
  },
  "language_info": {
   "codemirror_mode": {
    "name": "ipython",
    "version": 3
   },
   "file_extension": ".py",
   "mimetype": "text/x-python",
   "name": "python",
   "nbconvert_exporter": "python",
   "pygments_lexer": "ipython3",
   "version": "3.8.5"
  }
 },
 "nbformat": 4,
 "nbformat_minor": 5
}
